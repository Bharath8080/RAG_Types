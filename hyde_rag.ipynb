{
  "nbformat": 4,
  "nbformat_minor": 0,
  "metadata": {
    "colab": {
      "provenance": [],
      "gpuType": "T4"
    },
    "kernelspec": {
      "name": "python3",
      "display_name": "Python 3"
    },
    "language_info": {
      "name": "python"
    },
    "accelerator": "GPU"
  },
  "cells": [
    {
      "cell_type": "markdown",
      "source": [
        "<div style=\"display: flex; align-items: center; gap: 40px;\">\n",
        "\n",
        "<img src=\"https://framerusercontent.com/images/9vH8BcjXKRcC5OrSfkohhSyDgX0.png\" width=\"130\">\n",
        "\n",
        "\n",
        "[![Open In Colab](https://colab.research.google.com/assets/colab-badge.svg)](https://colab.research.google.com/drive/1OYpQFo88aLWbv0D1_DA2j4HZGRxTjRcK?usp=sharing)\n",
        "\n",
        "\n",
        "<div>\n",
        "  <h2>Hypothetical Document Embeddings (HyDE) RAG</h2>\n",
        "  <p>HyDE operates by creating hypothetical document embeddings that represent ideal documents relevant to a given query. This method contrasts with conventional RAG systems, which typically rely on the similarity between a user's query and existing document embeddings. By generating these hypothetical embeddings, HyDE effectively guides the retrieval process towards documents that are more likely to contain pertinent information.</p>\n",
        "\n"
      ],
      "metadata": {
        "id": "Cy2YO2HzQ5cM"
      }
    },
    {
      "cell_type": "markdown",
      "source": [
        "## Get Your API Keys\n",
        "\n",
        "Before you begin, make sure you have:\n",
        "\n",
        "1. A SUTRA API key (Get yours at [TWO AI's SUTRA API page](https://www.two.ai/sutra/api))\n",
        "2. Basic familiarity with Python and Jupyter notebooks\n",
        "\n",
        "This notebook is designed to run in Google Colab, so no local Python installation is required."
      ],
      "metadata": {
        "id": "-YdcvY-IRTFl"
      }
    },
    {
      "cell_type": "markdown",
      "source": [
        "###🔧 1. Install Required Libraries"
      ],
      "metadata": {
        "id": "U_FcHDjKRXlK"
      }
    },
    {
      "cell_type": "code",
      "source": [
        "!pip install -qU langchain_openai langchain_community chromadb"
      ],
      "metadata": {
        "collapsed": true,
        "id": "H0rhmYh2OmlK"
      },
      "execution_count": 20,
      "outputs": []
    },
    {
      "cell_type": "markdown",
      "source": [
        "###🔑 2. Set Environment Variables (API Keys)"
      ],
      "metadata": {
        "id": "-pdTd9EJRc9b"
      }
    },
    {
      "cell_type": "code",
      "source": [
        "import os\n",
        "from google.colab import userdata\n",
        "\n",
        "# Set the API key from Colab secrets\n",
        "os.environ[\"SUTRA_API_KEY\"] = userdata.get(\"SUTRA_API_KEY\")\n",
        "os.environ[\"OPENAI_API_KEY\"] = userdata.get(\"OPENAI_API_KEY\")"
      ],
      "metadata": {
        "id": "383zgfHiOqJv"
      },
      "execution_count": 21,
      "outputs": []
    },
    {
      "cell_type": "markdown",
      "source": [
        "###Initialize Openai embeddings"
      ],
      "metadata": {
        "id": "aPe_mTLFSMDj"
      }
    },
    {
      "cell_type": "code",
      "source": [
        "# load embedding model\n",
        "from langchain_openai import OpenAIEmbeddings\n",
        "embeddings = OpenAIEmbeddings()"
      ],
      "metadata": {
        "id": "93I4PN54RwyK"
      },
      "execution_count": 22,
      "outputs": []
    },
    {
      "cell_type": "markdown",
      "source": [
        "###📄 Load and Chunk Documents"
      ],
      "metadata": {
        "id": "7Zodb94GYtoK"
      }
    },
    {
      "cell_type": "code",
      "source": [
        "from langchain.document_loaders import CSVLoader\n",
        "from langchain.text_splitter import RecursiveCharacterTextSplitter\n",
        "\n",
        "loader = CSVLoader(\"./context.csv\")\n",
        "documents = loader.load()\n",
        "\n",
        "text_splitter = RecursiveCharacterTextSplitter(chunk_size=500, chunk_overlap=0)\n",
        "documents = text_splitter.split_documents(documents)"
      ],
      "metadata": {
        "id": "JJemYjU3YwJh"
      },
      "execution_count": 23,
      "outputs": []
    },
    {
      "cell_type": "markdown",
      "source": [
        "###🔍 Vector Store: ChromaDB"
      ],
      "metadata": {
        "id": "sLNdBLA3Y0Uo"
      }
    },
    {
      "cell_type": "code",
      "source": [
        "from langchain.vectorstores import Chroma\n",
        "\n",
        "vectorstore = Chroma.from_documents(documents, embeddings)"
      ],
      "metadata": {
        "id": "qZ5EQyU8Y0ER"
      },
      "execution_count": 24,
      "outputs": []
    },
    {
      "cell_type": "markdown",
      "source": [
        "###🔁 Retriever from Vectorstore"
      ],
      "metadata": {
        "id": "75BpGcQAZJfR"
      }
    },
    {
      "cell_type": "code",
      "source": [
        "retriever = vectorstore.as_retriever()"
      ],
      "metadata": {
        "id": "MoDsF9FEZL84"
      },
      "execution_count": 25,
      "outputs": []
    },
    {
      "cell_type": "markdown",
      "source": [
        "###Setup Sutra LLM (via ChatOpenAI interface)"
      ],
      "metadata": {
        "id": "5OM17X8Ba7ER"
      }
    },
    {
      "cell_type": "code",
      "source": [
        "from langchain_openai import ChatOpenAI\n",
        "from langchain_core.prompts import ChatPromptTemplate\n",
        "from langchain_core.output_parsers import StrOutputParser\n",
        "\n",
        "# Sutra LLM setup\n",
        "llm = ChatOpenAI(\n",
        "    api_key=os.getenv(\"SUTRA_API_KEY\"),\n",
        "    base_url=\"https://api.two.ai/v2\",\n",
        "    model=\"sutra-v2\"\n",
        ")\n",
        "\n",
        "# Hypothetical Answer Prompt\n",
        "prompt_hyde = ChatPromptTemplate.from_messages([\n",
        "    (\"system\", \"You are a helpful assistant that answers questions.\\nQuestion: {input}\\nAnswer:\"),\n",
        "    (\"human\", \"{input}\")\n",
        "])\n",
        "\n",
        "qa_no_context = prompt_hyde | llm | StrOutputParser()"
      ],
      "metadata": {
        "id": "QieCFQ6SeCxr"
      },
      "execution_count": 31,
      "outputs": []
    },
    {
      "cell_type": "markdown",
      "source": [
        "###Hypothetical Answer Chain (HyDE style hallucination)"
      ],
      "metadata": {
        "id": "yw9ioJhreFxe"
      }
    },
    {
      "cell_type": "code",
      "source": [
        "# hallucinate an answer to generate better query\n",
        "question = \"how does interlibrary loan work\"\n",
        "hypothetical_answer = qa_no_context.invoke({\"input\": question})\n",
        "print(\"🧠 Hypothetical Answer:\\n\", hypothetical_answer)"
      ],
      "metadata": {
        "colab": {
          "base_uri": "https://localhost:8080/"
        },
        "id": "wYPpg2O0eJid",
        "outputId": "0368478e-243a-4dab-805e-396dac120a49"
      },
      "execution_count": 32,
      "outputs": [
        {
          "output_type": "stream",
          "name": "stdout",
          "text": [
            "🧠 Hypothetical Answer:\n",
            " Interlibrary loan (ILL) is a service that allows libraries to borrow books, articles, and other materials from each other on behalf of their patrons. Here’s how it typically works:\n",
            "\n",
            "1. **Request Submission**: A patron at a library identifies a resource that is not available in their home library's collection. They can submit a request for this item through their library's ILL system, either online or in person.\n",
            "\n",
            "2. **Verification**: The library staff verifies the request to ensure that the item is not available locally and checks its availability in other libraries within a network or consortium.\n",
            "\n",
            "3. **Borrowing Libraries**: The home library sends the request to another library that owns the item. This could be local, regional, or even national, depending on the agreements in place.\n",
            "\n",
            "4. **Loan Processing**: The lending library processes the request and ships the item to the requesting library. If the item is an article or a digital resource, it may be sent electronically.\n",
            "\n",
            "5. **Notification**: Once the item arrives at the home library, the patron is notified. They can then pick up the item or access it according to the library's policies.\n",
            "\n",
            "6. **Return**: After the patron has finished using the item, it must be returned to the home library by the due date. The home library then sends it back to the lending library.\n",
            "\n",
            "7. **Fees**: Some libraries charge fees for ILL services, especially if the item is rare or if shipping costs are incurred. These fees vary by library.\n",
            "\n",
            "8. **Policies and Limits**: Each library has its own policies regarding interlibrary loans, including limits on the number of items that can be borrowed at one time, borrowing periods, and eligibility for ILL services.\n",
            "\n",
            "Overall, interlibrary loans facilitate access to a broader range of resources beyond what any single library can offer.\n"
          ]
        }
      ]
    },
    {
      "cell_type": "markdown",
      "source": [
        "###Retrieve Relevant Docs Based on HyDE Answer"
      ],
      "metadata": {
        "id": "hLc66jrIeMj9"
      }
    },
    {
      "cell_type": "code",
      "source": [
        "# retrieve documents based on hypothetical answer\n",
        "retrieval_chain = qa_no_context | retriever\n",
        "retrieved_docs = retrieval_chain.invoke({\"input\": question})\n",
        "\n",
        "# Combine content into string for prompt\n",
        "context_text = \"\\n\".join([doc.page_content for doc in retrieved_docs])"
      ],
      "metadata": {
        "id": "8k6EFyt6eOn2"
      },
      "execution_count": 33,
      "outputs": []
    },
    {
      "cell_type": "markdown",
      "source": [
        "###Final RAG Answer Using Context"
      ],
      "metadata": {
        "id": "f-ZJB8eceRmg"
      }
    },
    {
      "cell_type": "code",
      "source": [
        "# RAG prompt with context\n",
        "template_context = \"\"\"\n",
        "You are a helpful assistant that answers questions based on the provided context.\n",
        "Use the provided context to answer the question.\n",
        "Question: {input}\n",
        "Context: {context}\n",
        "\"\"\"\n",
        "\n",
        "prompt_context = ChatPromptTemplate.from_template(template_context)\n",
        "final_rag_chain = prompt_context | llm | StrOutputParser()\n",
        "\n",
        "# Final context-aware response\n",
        "final_answer = final_rag_chain.invoke({\"context\": context_text, \"input\": question})\n",
        "print(\"✅ Final Answer:\\n\", final_answer)"
      ],
      "metadata": {
        "colab": {
          "base_uri": "https://localhost:8080/"
        },
        "id": "05R7mPc8eRSd",
        "outputId": "6acae32a-7526-418e-f6b0-cc0a88bcb17a"
      },
      "execution_count": 34,
      "outputs": [
        {
          "output_type": "stream",
          "name": "stdout",
          "text": [
            "✅ Final Answer:\n",
            " Interlibrary loan (ILL) is a service that allows patrons of one library to borrow physical materials and obtain electronic documents from another library. This service enhances access to resources that are not available in a patron's local library, making it an essential component of collection development for libraries.\n",
            "\n",
            "The process typically involves the following steps:\n",
            "\n",
            "1. **Request**: A patron identifies a material (book, article, etc.) that is not available at their local library and submits a request for it through the interlibrary loan service.\n",
            "\n",
            "2. **Processing**: The local library checks its network of partner libraries to find a library that holds the requested item and is willing to lend it.\n",
            "\n",
            "3. **Loaning**: Once a partner library agrees to lend the item, it is sent to the requesting library. This may involve shipping physical materials or providing electronic access to documents.\n",
            "\n",
            "4. **Notification**: The local library notifies the patron when the item is available for pickup or when an electronic document can be accessed.\n",
            "\n",
            "5. **Return**: After the patron has used the item, they must return it to their local library, which then sends it back to the lending library.\n",
            "\n",
            "Libraries also negotiate specific conditions regarding the eligibility for ILL, particularly for journal articles and digital materials, as licensing agreements can affect what can be shared. As demand for digital materials grows, libraries continue to explore the legal and technical aspects of facilitating ebook loans through ILL.\n"
          ]
        }
      ]
    },
    {
      "cell_type": "markdown",
      "source": [
        "###📊 Prepare Data for Evaluation"
      ],
      "metadata": {
        "id": "AkRXvngmeuqt"
      }
    },
    {
      "cell_type": "code",
      "source": [
        "from datasets import Dataset\n",
        "import pandas as pd\n",
        "\n",
        "# Inference loop (can extend with more questions)\n",
        "questions = [\"how does interlibrary loan work\"]\n",
        "responses, contexts = [], []\n",
        "\n",
        "for q in questions:\n",
        "    docs = retriever.get_relevant_documents(q)\n",
        "    ctx_text = \"\\n\".join([doc.page_content for doc in docs])\n",
        "    result = final_rag_chain.invoke({\"context\": ctx_text, \"input\": q})\n",
        "\n",
        "    responses.append(result)\n",
        "    contexts.append([doc.page_content for doc in docs])\n",
        "\n",
        "# Create HuggingFace Dataset\n",
        "data = {\"query\": questions, \"response\": responses, \"context\": contexts}\n",
        "dataset = Dataset.from_dict(data)\n",
        "\n",
        "# Convert to DataFrame\n",
        "df = pd.DataFrame(dataset)\n",
        "df"
      ],
      "metadata": {
        "colab": {
          "base_uri": "https://localhost:8080/",
          "height": 89
        },
        "id": "Xde_9wcqerG0",
        "outputId": "5cda375c-cabe-4190-bb92-67993fe56eb0"
      },
      "execution_count": 35,
      "outputs": [
        {
          "output_type": "execute_result",
          "data": {
            "text/plain": [
              "                             query  \\\n",
              "0  how does interlibrary loan work   \n",
              "\n",
              "                                            response  \\\n",
              "0  Interlibrary loan (ILL) is a service that allo...   \n",
              "\n",
              "                                             context  \n",
              "0  [Procedures and methods ==\\n\\nAfter receiving ...  "
            ],
            "text/html": [
              "\n",
              "  <div id=\"df-c09f65c0-c138-429c-94e5-e29ea607fdea\" class=\"colab-df-container\">\n",
              "    <div>\n",
              "<style scoped>\n",
              "    .dataframe tbody tr th:only-of-type {\n",
              "        vertical-align: middle;\n",
              "    }\n",
              "\n",
              "    .dataframe tbody tr th {\n",
              "        vertical-align: top;\n",
              "    }\n",
              "\n",
              "    .dataframe thead th {\n",
              "        text-align: right;\n",
              "    }\n",
              "</style>\n",
              "<table border=\"1\" class=\"dataframe\">\n",
              "  <thead>\n",
              "    <tr style=\"text-align: right;\">\n",
              "      <th></th>\n",
              "      <th>query</th>\n",
              "      <th>response</th>\n",
              "      <th>context</th>\n",
              "    </tr>\n",
              "  </thead>\n",
              "  <tbody>\n",
              "    <tr>\n",
              "      <th>0</th>\n",
              "      <td>how does interlibrary loan work</td>\n",
              "      <td>Interlibrary loan (ILL) is a service that allo...</td>\n",
              "      <td>[Procedures and methods ==\\n\\nAfter receiving ...</td>\n",
              "    </tr>\n",
              "  </tbody>\n",
              "</table>\n",
              "</div>\n",
              "    <div class=\"colab-df-buttons\">\n",
              "\n",
              "  <div class=\"colab-df-container\">\n",
              "    <button class=\"colab-df-convert\" onclick=\"convertToInteractive('df-c09f65c0-c138-429c-94e5-e29ea607fdea')\"\n",
              "            title=\"Convert this dataframe to an interactive table.\"\n",
              "            style=\"display:none;\">\n",
              "\n",
              "  <svg xmlns=\"http://www.w3.org/2000/svg\" height=\"24px\" viewBox=\"0 -960 960 960\">\n",
              "    <path d=\"M120-120v-720h720v720H120Zm60-500h600v-160H180v160Zm220 220h160v-160H400v160Zm0 220h160v-160H400v160ZM180-400h160v-160H180v160Zm440 0h160v-160H620v160ZM180-180h160v-160H180v160Zm440 0h160v-160H620v160Z\"/>\n",
              "  </svg>\n",
              "    </button>\n",
              "\n",
              "  <style>\n",
              "    .colab-df-container {\n",
              "      display:flex;\n",
              "      gap: 12px;\n",
              "    }\n",
              "\n",
              "    .colab-df-convert {\n",
              "      background-color: #E8F0FE;\n",
              "      border: none;\n",
              "      border-radius: 50%;\n",
              "      cursor: pointer;\n",
              "      display: none;\n",
              "      fill: #1967D2;\n",
              "      height: 32px;\n",
              "      padding: 0 0 0 0;\n",
              "      width: 32px;\n",
              "    }\n",
              "\n",
              "    .colab-df-convert:hover {\n",
              "      background-color: #E2EBFA;\n",
              "      box-shadow: 0px 1px 2px rgba(60, 64, 67, 0.3), 0px 1px 3px 1px rgba(60, 64, 67, 0.15);\n",
              "      fill: #174EA6;\n",
              "    }\n",
              "\n",
              "    .colab-df-buttons div {\n",
              "      margin-bottom: 4px;\n",
              "    }\n",
              "\n",
              "    [theme=dark] .colab-df-convert {\n",
              "      background-color: #3B4455;\n",
              "      fill: #D2E3FC;\n",
              "    }\n",
              "\n",
              "    [theme=dark] .colab-df-convert:hover {\n",
              "      background-color: #434B5C;\n",
              "      box-shadow: 0px 1px 3px 1px rgba(0, 0, 0, 0.15);\n",
              "      filter: drop-shadow(0px 1px 2px rgba(0, 0, 0, 0.3));\n",
              "      fill: #FFFFFF;\n",
              "    }\n",
              "  </style>\n",
              "\n",
              "    <script>\n",
              "      const buttonEl =\n",
              "        document.querySelector('#df-c09f65c0-c138-429c-94e5-e29ea607fdea button.colab-df-convert');\n",
              "      buttonEl.style.display =\n",
              "        google.colab.kernel.accessAllowed ? 'block' : 'none';\n",
              "\n",
              "      async function convertToInteractive(key) {\n",
              "        const element = document.querySelector('#df-c09f65c0-c138-429c-94e5-e29ea607fdea');\n",
              "        const dataTable =\n",
              "          await google.colab.kernel.invokeFunction('convertToInteractive',\n",
              "                                                    [key], {});\n",
              "        if (!dataTable) return;\n",
              "\n",
              "        const docLinkHtml = 'Like what you see? Visit the ' +\n",
              "          '<a target=\"_blank\" href=https://colab.research.google.com/notebooks/data_table.ipynb>data table notebook</a>'\n",
              "          + ' to learn more about interactive tables.';\n",
              "        element.innerHTML = '';\n",
              "        dataTable['output_type'] = 'display_data';\n",
              "        await google.colab.output.renderOutput(dataTable, element);\n",
              "        const docLink = document.createElement('div');\n",
              "        docLink.innerHTML = docLinkHtml;\n",
              "        element.appendChild(docLink);\n",
              "      }\n",
              "    </script>\n",
              "  </div>\n",
              "\n",
              "\n",
              "  <div id=\"id_9a0da55d-eb6d-4f5d-9e7d-5959a33dc2cf\">\n",
              "    <style>\n",
              "      .colab-df-generate {\n",
              "        background-color: #E8F0FE;\n",
              "        border: none;\n",
              "        border-radius: 50%;\n",
              "        cursor: pointer;\n",
              "        display: none;\n",
              "        fill: #1967D2;\n",
              "        height: 32px;\n",
              "        padding: 0 0 0 0;\n",
              "        width: 32px;\n",
              "      }\n",
              "\n",
              "      .colab-df-generate:hover {\n",
              "        background-color: #E2EBFA;\n",
              "        box-shadow: 0px 1px 2px rgba(60, 64, 67, 0.3), 0px 1px 3px 1px rgba(60, 64, 67, 0.15);\n",
              "        fill: #174EA6;\n",
              "      }\n",
              "\n",
              "      [theme=dark] .colab-df-generate {\n",
              "        background-color: #3B4455;\n",
              "        fill: #D2E3FC;\n",
              "      }\n",
              "\n",
              "      [theme=dark] .colab-df-generate:hover {\n",
              "        background-color: #434B5C;\n",
              "        box-shadow: 0px 1px 3px 1px rgba(0, 0, 0, 0.15);\n",
              "        filter: drop-shadow(0px 1px 2px rgba(0, 0, 0, 0.3));\n",
              "        fill: #FFFFFF;\n",
              "      }\n",
              "    </style>\n",
              "    <button class=\"colab-df-generate\" onclick=\"generateWithVariable('df')\"\n",
              "            title=\"Generate code using this dataframe.\"\n",
              "            style=\"display:none;\">\n",
              "\n",
              "  <svg xmlns=\"http://www.w3.org/2000/svg\" height=\"24px\"viewBox=\"0 0 24 24\"\n",
              "       width=\"24px\">\n",
              "    <path d=\"M7,19H8.4L18.45,9,17,7.55,7,17.6ZM5,21V16.75L18.45,3.32a2,2,0,0,1,2.83,0l1.4,1.43a1.91,1.91,0,0,1,.58,1.4,1.91,1.91,0,0,1-.58,1.4L9.25,21ZM18.45,9,17,7.55Zm-12,3A5.31,5.31,0,0,0,4.9,8.1,5.31,5.31,0,0,0,1,6.5,5.31,5.31,0,0,0,4.9,4.9,5.31,5.31,0,0,0,6.5,1,5.31,5.31,0,0,0,8.1,4.9,5.31,5.31,0,0,0,12,6.5,5.46,5.46,0,0,0,6.5,12Z\"/>\n",
              "  </svg>\n",
              "    </button>\n",
              "    <script>\n",
              "      (() => {\n",
              "      const buttonEl =\n",
              "        document.querySelector('#id_9a0da55d-eb6d-4f5d-9e7d-5959a33dc2cf button.colab-df-generate');\n",
              "      buttonEl.style.display =\n",
              "        google.colab.kernel.accessAllowed ? 'block' : 'none';\n",
              "\n",
              "      buttonEl.onclick = () => {\n",
              "        google.colab.notebook.generateWithVariable('df');\n",
              "      }\n",
              "      })();\n",
              "    </script>\n",
              "  </div>\n",
              "\n",
              "    </div>\n",
              "  </div>\n"
            ],
            "application/vnd.google.colaboratory.intrinsic+json": {
              "type": "dataframe",
              "variable_name": "df",
              "summary": "{\n  \"name\": \"df\",\n  \"rows\": 1,\n  \"fields\": [\n    {\n      \"column\": \"query\",\n      \"properties\": {\n        \"dtype\": \"string\",\n        \"num_unique_values\": 1,\n        \"samples\": [\n          \"how does interlibrary loan work\"\n        ],\n        \"semantic_type\": \"\",\n        \"description\": \"\"\n      }\n    },\n    {\n      \"column\": \"response\",\n      \"properties\": {\n        \"dtype\": \"string\",\n        \"num_unique_values\": 1,\n        \"samples\": [\n          \"Interlibrary loan (ILL) is a service that allows patrons of one library to borrow physical materials or receive electronic documents from another library. The process begins when a patron requests an item that their local library does not have. The borrowing library then identifies potential lending libraries that hold the desired item. Once a lending library is found, it delivers the item either physically or electronically to the borrowing library. \\n\\nAfter receiving the item, the borrowing library provides it to the patron and may also arrange for its return if necessary. Some interlibrary loan services may involve fees. This system enhances access to a broader range of resources and is considered an important aspect of collection development for libraries.\"\n        ],\n        \"semantic_type\": \"\",\n        \"description\": \"\"\n      }\n    },\n    {\n      \"column\": \"context\",\n      \"properties\": {\n        \"dtype\": \"object\",\n        \"semantic_type\": \"\",\n        \"description\": \"\"\n      }\n    }\n  ]\n}"
            }
          },
          "metadata": {},
          "execution_count": 35
        }
      ]
    }
  ]
}